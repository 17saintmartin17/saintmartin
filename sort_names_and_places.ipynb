{
 "cells": [
  {
   "cell_type": "code",
   "execution_count": 1,
   "metadata": {
    "collapsed": false
   },
   "outputs": [],
   "source": [
    "# all the necessary imports\n",
    "\n",
    "import csv\n",
    "import json\n",
    "\n",
    "from collections import defaultdict"
   ]
  },
  {
   "cell_type": "code",
   "execution_count": 2,
   "metadata": {
    "collapsed": false
   },
   "outputs": [
    {
     "name": "stdout",
     "output_type": "stream",
     "text": [
      "{'elias', 'mercury', 'hector', 'martin', 'lord jesus', 'emperor valentinianus', 'homer', 'anatolius', 'lord', 'hilarius', 'spirit', 'ruricius', 'jesus', 'auxentius', 'christ', 'valentinianus', 'devil', 'severus', 'desiderius', 'minerva', 'jupiter', 'antichrist', 'rufus', 'c?sar', 'defensor', 'sulpitius', 'emperor maximus', 'spirit of god', 'milan', 'god', 'lupicinus', 'maximus', 'holy hilarius', 'king constantine', 'clarus', 'evodius', 'john', 'julian c?sar', 'pictava', 'tetradius', 'st. martin', 'paulinus', 'arborius', 'socrates'}\n",
      "{'aquileia', 'ticinum', 'paris', 'illyria', 'in a certain village', 'treves', 'vaugiones', 'certain village', 'amiens', 'gallinaria', 'gaul', 'village of the ?dui', 'kingdom of god', 'rome', 'milan', 'tours', 'spain', 'leprosum', 'alps', 'the city', 'loire', 'pannonia', 'sabaria', 'italy'}\n"
     ]
    }
   ],
   "source": [
    "# read the list of names and places in a set\n",
    "\n",
    "n = open('names.csv')\n",
    "p = open('places.csv')\n",
    "names = n.read().splitlines()\n",
    "places = p.read().splitlines()\n",
    "names = [element.lower() for element in names]\n",
    "places = [element.lower() for element in places]\n",
    "names = set(names)\n",
    "places = set(places)\n",
    "\n",
    "print(names)\n",
    "print(places)"
   ]
  },
  {
   "cell_type": "code",
   "execution_count": 3,
   "metadata": {
    "collapsed": false
   },
   "outputs": [
    {
     "name": "stdout",
     "output_type": "stream",
     "text": [
      "CHAPTER III. Christ appears to St. Martin. \n",
      "{'god', 'christ', 'sulpitius', 'martin', 'st. martin', 'lord', 'jesus'}\n",
      "{'amiens', 'the city'}\n"
     ]
    }
   ],
   "source": [
    "# read the text and create name and place dictionarys for each chapter and a list of all titles\n",
    "\n",
    "vita = open('VSMSS.txt')\n",
    "\n",
    "chapters_titles = []\n",
    "chapters_names = defaultdict(set)\n",
    "chapters_places = defaultdict(set)\n",
    "\n",
    "ch_count = 0\n",
    "line_count = 0\n",
    "chapter_t = \"\"\n",
    "for line in vita.read().splitlines()[4:]:\n",
    "    words = line.split(' ')\n",
    "    if words[0] == \"PREFACE\":\n",
    "        chapters_titles.append(line) # preface has no title\n",
    "        chapters_names[0] = set()\n",
    "        chapters_places[0] = set()\n",
    "    elif words[0] == \"CHAPTER\":\n",
    "        line_count = 0\n",
    "        ch_count += 1\n",
    "        chapters_names[ch_count] = set()\n",
    "        chapters_places[ch_count] = set()\n",
    "        chapter_t = \"CHAPTER \" + words[1]\n",
    "    else:\n",
    "        for n in names:\n",
    "            if n in line.lower():\n",
    "                chapters_names[ch_count].add(n)\n",
    "        for p in places:\n",
    "            if p in line.lower():\n",
    "                chapters_places[ch_count].add(p)\n",
    "        if line_count == 1 and ch_count != 0:\n",
    "            chapters_titles.append(chapter_t + \" \" + line)\n",
    "        line_count += 1\n",
    "                \n",
    "# make sets into lists because of json\n",
    "for c in chapters_places:\n",
    "    c = list[]\n",
    "            \n",
    "print(chapters_titles[3])\n",
    "print(chapters_names[3])\n",
    "print(chapters_places[3])"
   ]
  },
  {
   "cell_type": "code",
   "execution_count": 6,
   "metadata": {
    "collapsed": false
   },
   "outputs": [],
   "source": [
    "# write the data in a csv file\n",
    "\n",
    "with open('chapters.csv', 'w') as csvfile:\n",
    "    f = ['chapter', 'list_of_names', 'list_of_places']\n",
    "    writer = csv.DictWriter(csvfile, fieldnames=f)\n",
    "\n",
    "    writer.writeheader()\n",
    "    for i in range (0, len(chapters_titles)):\n",
    "        writer.writerow({'chapter': chapters_titles[i], 'list_of_names': json.dumps(list(chapters_names[i])), 'list_of_places': json.dumps(list(chapters_places[i]))})"
   ]
  },
  {
   "cell_type": "code",
   "execution_count": null,
   "metadata": {
    "collapsed": true
   },
   "outputs": [],
   "source": []
  }
 ],
 "metadata": {
  "kernelspec": {
   "display_name": "Python 3",
   "language": "python",
   "name": "python3"
  },
  "language_info": {
   "codemirror_mode": {
    "name": "ipython",
    "version": 3
   },
   "file_extension": ".py",
   "mimetype": "text/x-python",
   "name": "python",
   "nbconvert_exporter": "python",
   "pygments_lexer": "ipython3",
   "version": "3.6.0"
  }
 },
 "nbformat": 4,
 "nbformat_minor": 2
}
